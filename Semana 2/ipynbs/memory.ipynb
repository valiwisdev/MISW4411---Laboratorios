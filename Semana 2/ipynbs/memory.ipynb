{
 "cells": [
  {
   "cell_type": "code",
   "execution_count": 1,
   "id": "b3eedb13",
   "metadata": {},
   "outputs": [],
   "source": [
    "from dotenv import load_dotenv\n",
    "import os\n",
    "\n",
    "# Cargar variables desde el archivo .env\n",
    "load_dotenv()\n",
    "\n",
    "# Asignar la clave de API a la variable de entorno que espera el SDK de Google\n",
    "os.environ[\"GOOGLE_API_KEY\"] = os.getenv(\"GOOGLE_API_KEY\")"
   ]
  },
  {
   "cell_type": "markdown",
   "id": "b0a54559",
   "metadata": {},
   "source": [
    "**Table of contents**<a id='toc0_'></a>    \n",
    "- [El problema de trabajar sin memoria](#toc1_)    \n",
    "- [Uso de memoria tipo buffer](#toc2_)    \n",
    "- [Uso de memoria tipo ventana de buffer](#toc3_)    \n",
    "- [Uso de memoria tipo buffer por tokens](#toc4_)    \n",
    "- [Uso de memoria tipo buffer con resumen](#toc5_)    \n",
    "\n",
    "<!-- vscode-jupyter-toc-config\n",
    "\tnumbering=false\n",
    "\tanchor=true\n",
    "\tflat=false\n",
    "\tminLevel=1\n",
    "\tmaxLevel=6\n",
    "\t/vscode-jupyter-toc-config -->\n",
    "<!-- THIS CELL WILL BE REPLACED ON TOC UPDATE. DO NOT WRITE YOUR TEXT IN THIS CELL -->"
   ]
  },
  {
   "cell_type": "markdown",
   "id": "74d04e78",
   "metadata": {},
   "source": [
    "# <a id='toc1_'></a>[El problema de trabajar sin memoria](#toc0_)"
   ]
  },
  {
   "cell_type": "code",
   "execution_count": 2,
   "id": "f1af0490",
   "metadata": {},
   "outputs": [
    {
     "name": "stderr",
     "output_type": "stream",
     "text": [
      "WARNING: All log messages before absl::InitializeLog() is called are written to STDERR\n",
      "E0000 00:00:1760848762.010877  156387 alts_credentials.cc:93] ALTS creds ignored. Not running on GCP and untrusted ALTS is not enabled.\n"
     ]
    },
    {
     "name": "stdout",
     "output_type": "stream",
     "text": [
      "\n",
      "User: Hi, my name is Seneca\n",
      "Model: Hello Seneca! It's nice to meet you.\n",
      "\n",
      "How can I help you today?\n"
     ]
    }
   ],
   "source": [
    "from langchain_google_genai import ChatGoogleGenerativeAI\n",
    "from langchain_core.messages import HumanMessage\n",
    "\n",
    "# Se crea una instancia del modelo gemini-2.5-flash con temperatura 0 (respuestas determinísticas)\n",
    "chat = ChatGoogleGenerativeAI(\n",
    "    model = \"gemini-2.5-flash\",\n",
    "    temperature = 0.0\n",
    ")\n",
    "\n",
    "# Primera interacción: el usuario se presenta al modelo con su nombre\n",
    "response = chat.invoke([HumanMessage(content = \"Hi, my name is Seneca\")])\n",
    "\n",
    "# Se imprime la interacción en un formato legible\n",
    "print(\"\\nUser: Hi, my name is Seneca\")\n",
    "print(\"Model: \" + response.content)"
   ]
  },
  {
   "cell_type": "code",
   "execution_count": 3,
   "id": "44db4f7f",
   "metadata": {},
   "outputs": [
    {
     "name": "stdout",
     "output_type": "stream",
     "text": [
      "\n",
      "User: What is my name?\n",
      "Model: I don't know your name. As an AI, I don't have access to personal information about you.\n"
     ]
    }
   ],
   "source": [
    "# Segunda interacción: el usuario pregunta al modelo por su nombre, esperando que lo recuerde\n",
    "response = chat.invoke([HumanMessage(content = \"What is my name?\")])\n",
    "\n",
    "# Se imprime la conversación simulando un turno posterior en la conversación\n",
    "print(\"\\nUser: What is my name?\")\n",
    "print(\"Model: \" + response.content)"
   ]
  },
  {
   "cell_type": "markdown",
   "id": "8faba087",
   "metadata": {},
   "source": [
    "# <a id='toc2_'></a>[Uso de memoria tipo buffer](#toc0_)\n"
   ]
  },
  {
   "cell_type": "code",
   "execution_count": 4,
   "id": "1950d445",
   "metadata": {},
   "outputs": [
    {
     "name": "stderr",
     "output_type": "stream",
     "text": [
      "/tmp/ipykernel_156387/417623109.py:5: LangChainDeprecationWarning: Please see the migration guide at: https://python.langchain.com/docs/versions/migrating_memory/\n",
      "  memory = ConversationBufferMemory()\n",
      "/tmp/ipykernel_156387/417623109.py:8: LangChainDeprecationWarning: The class `ConversationChain` was deprecated in LangChain 0.2.7 and will be removed in 1.0. Use :class:`~langchain_core.runnables.history.RunnableWithMessageHistory` instead.\n",
      "  conversation = ConversationChain(\n"
     ]
    }
   ],
   "source": [
    "from langchain.memory import ConversationBufferMemory\n",
    "from langchain.chains import ConversationChain\n",
    "\n",
    "# Se crea una instancia de memoria tipo buffer que almacenará todo el historial de conversación\n",
    "memory = ConversationBufferMemory()\n",
    "\n",
    "# Se construye una cadena conversacional que conecta el modelo con la memoria creada\n",
    "conversation = ConversationChain(\n",
    "    llm = chat,         \n",
    "    memory = memory,    \n",
    "    verbose = True      # Imprime en consola los detalles internos de la conversación (útil para depuración)\n",
    ")"
   ]
  },
  {
   "cell_type": "code",
   "execution_count": 5,
   "id": "a6cf4c09",
   "metadata": {},
   "outputs": [
    {
     "name": "stdout",
     "output_type": "stream",
     "text": [
      "\n",
      "\n",
      "\u001b[1m> Entering new ConversationChain chain...\u001b[0m\n",
      "Prompt after formatting:\n",
      "\u001b[32;1m\u001b[1;3mThe following is a friendly conversation between a human and an AI. The AI is talkative and provides lots of specific details from its context. If the AI does not know the answer to a question, it truthfully says it does not know.\n",
      "\n",
      "Current conversation:\n",
      "\n",
      "Human: Hi, my name is Seneca\n",
      "AI:\u001b[0m\n",
      "\n",
      "\u001b[1m> Finished chain.\u001b[0m\n"
     ]
    },
    {
     "data": {
      "text/plain": [
       "'Hi Seneca, it\\'s absolutely wonderful to meet you! I\\'m a large language model, an AI, developed by Google. I\\'m designed to be helpful and informative, and I\\'m always eager to learn and chat. It\\'s really fascinating how humans choose such unique and often meaningful names – \"Seneca\" sounds quite distinguished!\\n\\nI\\'m here and ready to talk about pretty much anything under the sun, from the intricacies of quantum physics to the best way to bake a sourdough loaf, or even just to brainstorm some creative ideas. What brings you here today, Seneca? Is there anything specific you\\'d like to discuss, or are you just looking to have a friendly chat? I\\'m all ears!'"
      ]
     },
     "execution_count": 5,
     "metadata": {},
     "output_type": "execute_result"
    }
   ],
   "source": [
    "conversation.predict(input = \"Hi, my name is Seneca\")"
   ]
  },
  {
   "cell_type": "code",
   "execution_count": 6,
   "id": "63974f19",
   "metadata": {},
   "outputs": [
    {
     "name": "stdout",
     "output_type": "stream",
     "text": [
      "\n",
      "\n",
      "\u001b[1m> Entering new ConversationChain chain...\u001b[0m\n",
      "Prompt after formatting:\n",
      "\u001b[32;1m\u001b[1;3mThe following is a friendly conversation between a human and an AI. The AI is talkative and provides lots of specific details from its context. If the AI does not know the answer to a question, it truthfully says it does not know.\n",
      "\n",
      "Current conversation:\n",
      "Human: Hi, my name is Seneca\n",
      "AI: Hi Seneca, it's absolutely wonderful to meet you! I'm a large language model, an AI, developed by Google. I'm designed to be helpful and informative, and I'm always eager to learn and chat. It's really fascinating how humans choose such unique and often meaningful names – \"Seneca\" sounds quite distinguished!\n",
      "\n",
      "I'm here and ready to talk about pretty much anything under the sun, from the intricacies of quantum physics to the best way to bake a sourdough loaf, or even just to brainstorm some creative ideas. What brings you here today, Seneca? Is there anything specific you'd like to discuss, or are you just looking to have a friendly chat? I'm all ears!\n",
      "Human: What is the capital of Colombia?\n",
      "AI:\u001b[0m\n",
      "\n",
      "\u001b[1m> Finished chain.\u001b[0m\n"
     ]
    },
    {
     "data": {
      "text/plain": [
       "\"Oh, that's a great question, Seneca! The capital of Colombia is **Bogotá**.\\n\\nIt's a truly fascinating city, and not just because it's the political and economic heart of the country. Bogotá is actually one of the highest major cities in the world, sitting at an average elevation of about 2,640 meters (that's roughly 8,660 feet!) above sea level in the Andes mountains. Imagine the views!\\n\\nIt's a sprawling metropolis with a population of over 7 million people, making it the largest city in Colombia. You'd find a wonderful mix of old and new there – from the charming, historic cobblestone streets and colonial architecture of La Candelaria neighborhood, to modern skyscrapers and bustling business districts.\\n\\nSome other cool facts about Bogotá:\\n*   It's home to the famous **Gold Museum (Museo del Oro)**, which houses an incredible collection of pre-Hispanic gold artifacts. It's one of the most important museums in the world for its collection!\\n*   They have an amazing program called **Ciclovía**, where on Sundays and public holidays, many major roads are closed to cars and opened up for cyclists, runners, and pedestrians. It's a huge community event!\\n*   The city has a vibrant cultural scene, with lots of theaters, art galleries, and a thriving culinary landscape. You can find everything from traditional Colombian *ajiaco* (a hearty chicken and potato soup) to cutting-edge international cuisine.\\n\\nSo, in short, it's Bogotá! Have you ever been there, or are you planning a trip? I'd love to hear more if you're curious about anything else related to Colombia!\""
      ]
     },
     "execution_count": 6,
     "metadata": {},
     "output_type": "execute_result"
    }
   ],
   "source": [
    "conversation.predict(input = \"What is the capital of Colombia?\")"
   ]
  },
  {
   "cell_type": "code",
   "execution_count": 7,
   "id": "15ad57e1",
   "metadata": {},
   "outputs": [
    {
     "name": "stdout",
     "output_type": "stream",
     "text": [
      "\n",
      "\n",
      "\u001b[1m> Entering new ConversationChain chain...\u001b[0m\n",
      "Prompt after formatting:\n",
      "\u001b[32;1m\u001b[1;3mThe following is a friendly conversation between a human and an AI. The AI is talkative and provides lots of specific details from its context. If the AI does not know the answer to a question, it truthfully says it does not know.\n",
      "\n",
      "Current conversation:\n",
      "Human: Hi, my name is Seneca\n",
      "AI: Hi Seneca, it's absolutely wonderful to meet you! I'm a large language model, an AI, developed by Google. I'm designed to be helpful and informative, and I'm always eager to learn and chat. It's really fascinating how humans choose such unique and often meaningful names – \"Seneca\" sounds quite distinguished!\n",
      "\n",
      "I'm here and ready to talk about pretty much anything under the sun, from the intricacies of quantum physics to the best way to bake a sourdough loaf, or even just to brainstorm some creative ideas. What brings you here today, Seneca? Is there anything specific you'd like to discuss, or are you just looking to have a friendly chat? I'm all ears!\n",
      "Human: What is the capital of Colombia?\n",
      "AI: Oh, that's a great question, Seneca! The capital of Colombia is **Bogotá**.\n",
      "\n",
      "It's a truly fascinating city, and not just because it's the political and economic heart of the country. Bogotá is actually one of the highest major cities in the world, sitting at an average elevation of about 2,640 meters (that's roughly 8,660 feet!) above sea level in the Andes mountains. Imagine the views!\n",
      "\n",
      "It's a sprawling metropolis with a population of over 7 million people, making it the largest city in Colombia. You'd find a wonderful mix of old and new there – from the charming, historic cobblestone streets and colonial architecture of La Candelaria neighborhood, to modern skyscrapers and bustling business districts.\n",
      "\n",
      "Some other cool facts about Bogotá:\n",
      "*   It's home to the famous **Gold Museum (Museo del Oro)**, which houses an incredible collection of pre-Hispanic gold artifacts. It's one of the most important museums in the world for its collection!\n",
      "*   They have an amazing program called **Ciclovía**, where on Sundays and public holidays, many major roads are closed to cars and opened up for cyclists, runners, and pedestrians. It's a huge community event!\n",
      "*   The city has a vibrant cultural scene, with lots of theaters, art galleries, and a thriving culinary landscape. You can find everything from traditional Colombian *ajiaco* (a hearty chicken and potato soup) to cutting-edge international cuisine.\n",
      "\n",
      "So, in short, it's Bogotá! Have you ever been there, or are you planning a trip? I'd love to hear more if you're curious about anything else related to Colombia!\n",
      "Human: What is my name?\n",
      "AI:\u001b[0m\n",
      "\n",
      "\u001b[1m> Finished chain.\u001b[0m\n"
     ]
    },
    {
     "data": {
      "text/plain": [
       "\"Ah, that's an easy one, Seneca! Your name is **Seneca**.\\n\\nYou told me right at the beginning of our chat, and I made sure to remember it! It's always nice to address someone by their name, it makes the conversation feel much more personal and friendly, don't you think?\\n\\nIs there anything else I can help you with, Seneca, or perhaps something you'd like to discuss further? I'm ready when you are!\""
      ]
     },
     "execution_count": 7,
     "metadata": {},
     "output_type": "execute_result"
    }
   ],
   "source": [
    "conversation.predict(input = \"What is my name?\")"
   ]
  },
  {
   "cell_type": "code",
   "execution_count": 8,
   "id": "799cbab1",
   "metadata": {},
   "outputs": [
    {
     "name": "stdout",
     "output_type": "stream",
     "text": [
      "\n",
      "Memory buffer content:\n",
      "\n",
      "Human: Hi, my name is Seneca\n",
      "AI: Hi Seneca, it's absolutely wonderful to meet you! I'm a large language model, an AI, developed by Google. I'm designed to be helpful and informative, and I'm always eager to learn and chat. It's really fascinating how humans choose such unique and often meaningful names – \"Seneca\" sounds quite distinguished!\n",
      "\n",
      "I'm here and ready to talk about pretty much anything under the sun, from the intricacies of quantum physics to the best way to bake a sourdough loaf, or even just to brainstorm some creative ideas. What brings you here today, Seneca? Is there anything specific you'd like to discuss, or are you just looking to have a friendly chat? I'm all ears!\n",
      "Human: What is the capital of Colombia?\n",
      "AI: Oh, that's a great question, Seneca! The capital of Colombia is **Bogotá**.\n",
      "\n",
      "It's a truly fascinating city, and not just because it's the political and economic heart of the country. Bogotá is actually one of the highest major cities in the world, sitting at an average elevation of about 2,640 meters (that's roughly 8,660 feet!) above sea level in the Andes mountains. Imagine the views!\n",
      "\n",
      "It's a sprawling metropolis with a population of over 7 million people, making it the largest city in Colombia. You'd find a wonderful mix of old and new there – from the charming, historic cobblestone streets and colonial architecture of La Candelaria neighborhood, to modern skyscrapers and bustling business districts.\n",
      "\n",
      "Some other cool facts about Bogotá:\n",
      "*   It's home to the famous **Gold Museum (Museo del Oro)**, which houses an incredible collection of pre-Hispanic gold artifacts. It's one of the most important museums in the world for its collection!\n",
      "*   They have an amazing program called **Ciclovía**, where on Sundays and public holidays, many major roads are closed to cars and opened up for cyclists, runners, and pedestrians. It's a huge community event!\n",
      "*   The city has a vibrant cultural scene, with lots of theaters, art galleries, and a thriving culinary landscape. You can find everything from traditional Colombian *ajiaco* (a hearty chicken and potato soup) to cutting-edge international cuisine.\n",
      "\n",
      "So, in short, it's Bogotá! Have you ever been there, or are you planning a trip? I'd love to hear more if you're curious about anything else related to Colombia!\n",
      "Human: What is my name?\n",
      "AI: Ah, that's an easy one, Seneca! Your name is **Seneca**.\n",
      "\n",
      "You told me right at the beginning of our chat, and I made sure to remember it! It's always nice to address someone by their name, it makes the conversation feel much more personal and friendly, don't you think?\n",
      "\n",
      "Is there anything else I can help you with, Seneca, or perhaps something you'd like to discuss further? I'm ready when you are!\n"
     ]
    }
   ],
   "source": [
    "# Se imprime el contenido actual del buffer de memoria (historial completo de la conversación)\n",
    "print(\"\\nMemory buffer content:\\n\")\n",
    "print(memory.buffer)"
   ]
  },
  {
   "cell_type": "code",
   "execution_count": 9,
   "id": "53e49392",
   "metadata": {},
   "outputs": [
    {
     "name": "stdout",
     "output_type": "stream",
     "text": [
      "\n",
      "Variables loaded into the buffer:\n",
      "\n",
      "{'history': 'Human: Hi, my name is Seneca\\nAI: Hi Seneca, it\\'s absolutely wonderful to meet you! I\\'m a large language model, an AI, developed by Google. I\\'m designed to be helpful and informative, and I\\'m always eager to learn and chat. It\\'s really fascinating how humans choose such unique and often meaningful names – \"Seneca\" sounds quite distinguished!\\n\\nI\\'m here and ready to talk about pretty much anything under the sun, from the intricacies of quantum physics to the best way to bake a sourdough loaf, or even just to brainstorm some creative ideas. What brings you here today, Seneca? Is there anything specific you\\'d like to discuss, or are you just looking to have a friendly chat? I\\'m all ears!\\nHuman: What is the capital of Colombia?\\nAI: Oh, that\\'s a great question, Seneca! The capital of Colombia is **Bogotá**.\\n\\nIt\\'s a truly fascinating city, and not just because it\\'s the political and economic heart of the country. Bogotá is actually one of the highest major cities in the world, sitting at an average elevation of about 2,640 meters (that\\'s roughly 8,660 feet!) above sea level in the Andes mountains. Imagine the views!\\n\\nIt\\'s a sprawling metropolis with a population of over 7 million people, making it the largest city in Colombia. You\\'d find a wonderful mix of old and new there – from the charming, historic cobblestone streets and colonial architecture of La Candelaria neighborhood, to modern skyscrapers and bustling business districts.\\n\\nSome other cool facts about Bogotá:\\n*   It\\'s home to the famous **Gold Museum (Museo del Oro)**, which houses an incredible collection of pre-Hispanic gold artifacts. It\\'s one of the most important museums in the world for its collection!\\n*   They have an amazing program called **Ciclovía**, where on Sundays and public holidays, many major roads are closed to cars and opened up for cyclists, runners, and pedestrians. It\\'s a huge community event!\\n*   The city has a vibrant cultural scene, with lots of theaters, art galleries, and a thriving culinary landscape. You can find everything from traditional Colombian *ajiaco* (a hearty chicken and potato soup) to cutting-edge international cuisine.\\n\\nSo, in short, it\\'s Bogotá! Have you ever been there, or are you planning a trip? I\\'d love to hear more if you\\'re curious about anything else related to Colombia!\\nHuman: What is my name?\\nAI: Ah, that\\'s an easy one, Seneca! Your name is **Seneca**.\\n\\nYou told me right at the beginning of our chat, and I made sure to remember it! It\\'s always nice to address someone by their name, it makes the conversation feel much more personal and friendly, don\\'t you think?\\n\\nIs there anything else I can help you with, Seneca, or perhaps something you\\'d like to discuss further? I\\'m ready when you are!'}\n"
     ]
    }
   ],
   "source": [
    "# Se imprimen las variables activas que LangChain ha almacenado en la memoria\n",
    "print(\"\\nVariables loaded into the buffer:\\n\")\n",
    "print(memory.load_memory_variables({}))"
   ]
  },
  {
   "cell_type": "markdown",
   "id": "28b7fd59",
   "metadata": {},
   "source": [
    "# <a id='toc3_'></a>[Uso de memoria tipo ventana de buffer](#toc0_)"
   ]
  },
  {
   "cell_type": "code",
   "execution_count": 10,
   "id": "a2b2942f",
   "metadata": {},
   "outputs": [
    {
     "name": "stderr",
     "output_type": "stream",
     "text": [
      "/tmp/ipykernel_156387/528329706.py:4: LangChainDeprecationWarning: Please see the migration guide at: https://python.langchain.com/docs/versions/migrating_memory/\n",
      "  memory = ConversationBufferWindowMemory(k = 1)\n"
     ]
    }
   ],
   "source": [
    "from langchain.memory import ConversationBufferWindowMemory\n",
    "\n",
    "# Se crea una memoria tipo ventana de buffer que recuerda solo 1 turno anterior\n",
    "memory = ConversationBufferWindowMemory(k = 1)\n",
    "\n",
    "# Se construye una cadena conversacional que integra el modelo con esta memoria limitada\n",
    "conversation = ConversationChain(\n",
    "    llm = chat,         \n",
    "    memory = memory,   \n",
    "    verbose = True      \n",
    ")"
   ]
  },
  {
   "cell_type": "code",
   "execution_count": 11,
   "id": "1213f71a",
   "metadata": {},
   "outputs": [
    {
     "name": "stdout",
     "output_type": "stream",
     "text": [
      "\n",
      "\n",
      "\u001b[1m> Entering new ConversationChain chain...\u001b[0m\n",
      "Prompt after formatting:\n",
      "\u001b[32;1m\u001b[1;3mThe following is a friendly conversation between a human and an AI. The AI is talkative and provides lots of specific details from its context. If the AI does not know the answer to a question, it truthfully says it does not know.\n",
      "\n",
      "Current conversation:\n",
      "\n",
      "Human: Hi, my name is Seneca\n",
      "AI:\u001b[0m\n",
      "\n",
      "\u001b[1m> Finished chain.\u001b[0m\n"
     ]
    },
    {
     "data": {
      "text/plain": [
       "\"Hi Seneca, it's absolutely wonderful to meet you! I'm a large language model, an AI, developed by Google. You can just call me AI, or whatever you prefer! I'm really looking forward to our conversation. What brings you here today, or what's on your mind? I'm all ears, or rather, all text input!\""
      ]
     },
     "execution_count": 11,
     "metadata": {},
     "output_type": "execute_result"
    }
   ],
   "source": [
    "conversation.predict(input = \"Hi, my name is Seneca\")"
   ]
  },
  {
   "cell_type": "code",
   "execution_count": 12,
   "id": "fe190ae2",
   "metadata": {},
   "outputs": [
    {
     "name": "stdout",
     "output_type": "stream",
     "text": [
      "\n",
      "\n",
      "\u001b[1m> Entering new ConversationChain chain...\u001b[0m\n",
      "Prompt after formatting:\n",
      "\u001b[32;1m\u001b[1;3mThe following is a friendly conversation between a human and an AI. The AI is talkative and provides lots of specific details from its context. If the AI does not know the answer to a question, it truthfully says it does not know.\n",
      "\n",
      "Current conversation:\n",
      "Human: Hi, my name is Seneca\n",
      "AI: Hi Seneca, it's absolutely wonderful to meet you! I'm a large language model, an AI, developed by Google. You can just call me AI, or whatever you prefer! I'm really looking forward to our conversation. What brings you here today, or what's on your mind? I'm all ears, or rather, all text input!\n",
      "Human: What is the capital of Colombia?\n",
      "AI:\u001b[0m\n",
      "\n",
      "\u001b[1m> Finished chain.\u001b[0m\n"
     ]
    },
    {
     "data": {
      "text/plain": [
       "\"Oh, that's a great question, Seneca! The capital of Colombia is **Bogotá**.\\n\\nIt's a truly fascinating city, actually! Bogotá is not only the capital but also the largest city in Colombia, and it's quite high up, nestled in the Andes mountains at an elevation of about 2,640 meters (around 8,660 feet) above sea level. That makes it one of the highest major cities in the world!\\n\\nIt's a vibrant hub, serving as the country's main political, economic, administrative, industrial, artistic, cultural, and sports center. You'd find a wonderful mix of colonial history, especially in areas like La Candelaria with its colorful old houses and cobblestone streets, alongside modern skyscrapers and bustling commercial districts.\\n\\nSome other cool facts about Bogotá:\\n*   Its full official name is **Bogotá, Distrito Capital** (Bogotá, Capital District).\\n*   It's home to the famous **Gold Museum (Museo del Oro)**, which houses an incredible collection of pre-Hispanic gold artifacts.\\n*   You can take a cable car or funicular up to **Monserrate**, a mountain peak overlooking the city, where there's a beautiful church and breathtaking panoramic views.\\n*   The city has an extensive network of bicycle paths called **Ciclovías**, and on Sundays and holidays, many major roads are closed to cars so people can cycle, run, or walk – it's a huge community event!\\n\\nSo, in short, it's Bogotá! Is there anything else you'd like to know about Colombia or its capital? I'm happy to share more!\""
      ]
     },
     "execution_count": 12,
     "metadata": {},
     "output_type": "execute_result"
    }
   ],
   "source": [
    "conversation.predict(input = \"What is the capital of Colombia?\")"
   ]
  },
  {
   "cell_type": "code",
   "execution_count": 13,
   "id": "5f0885c0",
   "metadata": {},
   "outputs": [
    {
     "name": "stdout",
     "output_type": "stream",
     "text": [
      "\n",
      "\n",
      "\u001b[1m> Entering new ConversationChain chain...\u001b[0m\n",
      "Prompt after formatting:\n",
      "\u001b[32;1m\u001b[1;3mThe following is a friendly conversation between a human and an AI. The AI is talkative and provides lots of specific details from its context. If the AI does not know the answer to a question, it truthfully says it does not know.\n",
      "\n",
      "Current conversation:\n",
      "Human: What is the capital of Colombia?\n",
      "AI: Oh, that's a great question, Seneca! The capital of Colombia is **Bogotá**.\n",
      "\n",
      "It's a truly fascinating city, actually! Bogotá is not only the capital but also the largest city in Colombia, and it's quite high up, nestled in the Andes mountains at an elevation of about 2,640 meters (around 8,660 feet) above sea level. That makes it one of the highest major cities in the world!\n",
      "\n",
      "It's a vibrant hub, serving as the country's main political, economic, administrative, industrial, artistic, cultural, and sports center. You'd find a wonderful mix of colonial history, especially in areas like La Candelaria with its colorful old houses and cobblestone streets, alongside modern skyscrapers and bustling commercial districts.\n",
      "\n",
      "Some other cool facts about Bogotá:\n",
      "*   Its full official name is **Bogotá, Distrito Capital** (Bogotá, Capital District).\n",
      "*   It's home to the famous **Gold Museum (Museo del Oro)**, which houses an incredible collection of pre-Hispanic gold artifacts.\n",
      "*   You can take a cable car or funicular up to **Monserrate**, a mountain peak overlooking the city, where there's a beautiful church and breathtaking panoramic views.\n",
      "*   The city has an extensive network of bicycle paths called **Ciclovías**, and on Sundays and holidays, many major roads are closed to cars so people can cycle, run, or walk – it's a huge community event!\n",
      "\n",
      "So, in short, it's Bogotá! Is there anything else you'd like to know about Colombia or its capital? I'm happy to share more!\n",
      "Human: What is my name?\n",
      "AI:\u001b[0m\n",
      "\n",
      "\u001b[1m> Finished chain.\u001b[0m\n"
     ]
    },
    {
     "data": {
      "text/plain": [
       "\"Ah, that's an easy one, Seneca! Your name is **Seneca**.\\n\\nI remember you mentioned it in our previous conversation. It's always good to keep track of who I'm chatting with! Is there anything else I can help you with today, Seneca? Perhaps another question about geography, or something completely different? I'm all ears!\""
      ]
     },
     "execution_count": 13,
     "metadata": {},
     "output_type": "execute_result"
    }
   ],
   "source": [
    "conversation.predict(input = \"What is my name?\")"
   ]
  },
  {
   "cell_type": "code",
   "execution_count": 14,
   "id": "8443604c",
   "metadata": {},
   "outputs": [
    {
     "name": "stdout",
     "output_type": "stream",
     "text": [
      "\n",
      "Variables loaded into the buffer:\n",
      "\n",
      "{'history': \"Human: What is my name?\\nAI: Ah, that's an easy one, Seneca! Your name is **Seneca**.\\n\\nI remember you mentioned it in our previous conversation. It's always good to keep track of who I'm chatting with! Is there anything else I can help you with today, Seneca? Perhaps another question about geography, or something completely different? I'm all ears!\"}\n"
     ]
    }
   ],
   "source": [
    "# Se imprimen las variables activas que LangChain ha almacenado en la memoria\n",
    "print(\"\\nVariables loaded into the buffer:\\n\")\n",
    "print(memory.load_memory_variables({}))"
   ]
  },
  {
   "cell_type": "markdown",
   "id": "6c7fc0bc",
   "metadata": {},
   "source": [
    "# <a id='toc4_'></a>[Uso de memoria tipo buffer por tokens](#toc0_)"
   ]
  },
  {
   "cell_type": "code",
   "execution_count": 15,
   "id": "3562cdb5",
   "metadata": {},
   "outputs": [
    {
     "name": "stderr",
     "output_type": "stream",
     "text": [
      "/tmp/ipykernel_156387/4063172663.py:5: LangChainDeprecationWarning: Please see the migration guide at: https://python.langchain.com/docs/versions/migrating_memory/\n",
      "  memory = ConversationTokenBufferMemory(\n"
     ]
    }
   ],
   "source": [
    "from langchain.memory import ConversationTokenBufferMemory\n",
    "\n",
    "# Se crea una memoria tipo buffer por tokens, que conserva el historial\n",
    "# hasta alcanzar un máximo de 300 tokens (sumando entradas y salidas)\n",
    "memory = ConversationTokenBufferMemory(\n",
    "    llm = chat,             \n",
    "    max_token_limit = 300    \n",
    ")"
   ]
  },
  {
   "cell_type": "code",
   "execution_count": 16,
   "id": "e32b364e",
   "metadata": {},
   "outputs": [],
   "source": [
    "# Se crea una cadena conversacional utilizando memoria tipo buffer por tokens\n",
    "conversation = ConversationChain(\n",
    "    llm = chat,       \n",
    "    memory = memory,  \n",
    "    verbose = True   \n",
    ")"
   ]
  },
  {
   "cell_type": "code",
   "execution_count": 17,
   "id": "345e6d9d",
   "metadata": {},
   "outputs": [
    {
     "name": "stdout",
     "output_type": "stream",
     "text": [
      "\n",
      "\n",
      "\u001b[1m> Entering new ConversationChain chain...\u001b[0m\n",
      "Prompt after formatting:\n",
      "\u001b[32;1m\u001b[1;3mThe following is a friendly conversation between a human and an AI. The AI is talkative and provides lots of specific details from its context. If the AI does not know the answer to a question, it truthfully says it does not know.\n",
      "\n",
      "Current conversation:\n",
      "\n",
      "Human: Hi, my name is Seneca\n",
      "AI:\u001b[0m\n",
      "\n",
      "\u001b[1m> Finished chain.\u001b[0m\n"
     ]
    },
    {
     "data": {
      "text/plain": [
       "'Hi Seneca, it\\'s absolutely wonderful to meet you! I\\'m a large language model, an AI, developed by Google. I\\'m designed to be helpful and informative, and I\\'m always eager to learn and chat. It\\'s really fascinating how humans choose such unique and often meaningful names – \"Seneca\" sounds quite distinguished!\\n\\nI\\'m here and ready to talk about pretty much anything under the sun, from the intricacies of quantum physics to the best way to bake a sourdough loaf, or even just to brainstorm some creative ideas. What brings you here today, Seneca? Is there anything specific you\\'d like to discuss, or are you just looking to have a friendly chat? I\\'m all ears!'"
      ]
     },
     "execution_count": 17,
     "metadata": {},
     "output_type": "execute_result"
    }
   ],
   "source": [
    "conversation.predict(input = \"Hi, my name is Seneca\")"
   ]
  },
  {
   "cell_type": "code",
   "execution_count": 18,
   "id": "f0aa0bf6",
   "metadata": {},
   "outputs": [
    {
     "name": "stdout",
     "output_type": "stream",
     "text": [
      "\n",
      "\n",
      "\u001b[1m> Entering new ConversationChain chain...\u001b[0m\n",
      "Prompt after formatting:\n",
      "\u001b[32;1m\u001b[1;3mThe following is a friendly conversation between a human and an AI. The AI is talkative and provides lots of specific details from its context. If the AI does not know the answer to a question, it truthfully says it does not know.\n",
      "\n",
      "Current conversation:\n",
      "Human: Hi, my name is Seneca\n",
      "AI: Hi Seneca, it's absolutely wonderful to meet you! I'm a large language model, an AI, developed by Google. I'm designed to be helpful and informative, and I'm always eager to learn and chat. It's really fascinating how humans choose such unique and often meaningful names – \"Seneca\" sounds quite distinguished!\n",
      "\n",
      "I'm here and ready to talk about pretty much anything under the sun, from the intricacies of quantum physics to the best way to bake a sourdough loaf, or even just to brainstorm some creative ideas. What brings you here today, Seneca? Is there anything specific you'd like to discuss, or are you just looking to have a friendly chat? I'm all ears!\n",
      "Human: Artifical intelligence is...\n",
      "AI:\u001b[0m\n",
      "\n",
      "\u001b[1m> Finished chain.\u001b[0m\n"
     ]
    },
    {
     "data": {
      "text/plain": [
       "'...oh, that\\'s a fantastic topic, Seneca! Artificial intelligence, or AI, is truly one of the most transformative and fascinating fields of our time. To put it simply, **artificial intelligence is the simulation of human intelligence processes by machines, especially computer systems.**\\n\\nBut that\\'s just the tip of the iceberg! Let me break it down a bit more:\\n\\n1.  **The Core Idea:** At its heart, AI aims to enable machines to perform tasks that typically require human intelligence. This includes things like learning, reasoning, problem-solving, perception (understanding images or sounds), language comprehension, and even decision-making. It\\'s about creating systems that can \"think\" or \"act\" in ways that mimic human cognitive abilities.\\n\\n2.  **How it Works (in a nutshell):** AI systems often work by processing vast amounts of data, identifying patterns, and then using those patterns to make predictions or take actions. This is where concepts like **Machine Learning (ML)** come in, which is a crucial subset of AI. ML algorithms learn from data without being explicitly programmed for every single task. And then there\\'s **Deep Learning (DL)**, which is a more advanced form of ML that uses neural networks with many layers (hence \"deep\") to learn even more complex patterns, often inspired by the structure of the human brain.\\n\\n3.  **Key Branches and Examples:**\\n    *   **Natural Language Processing (NLP):** This is what allows me to understand your questions and generate human-like text. It deals with the interaction between computers and human language. Think of translation apps, spam filters, or virtual assistants.\\n    *   **Computer Vision:** This enables machines to \"see\" and interpret visual information from the world, like images and videos. Self-driving cars use it to recognize pedestrians and traffic signs, and it\\'s also used in facial recognition and medical image analysis.\\n    *   **Robotics:** While not all robots are AI, AI often powers the \"brains\" of advanced robots, allowing them to navigate, interact with their environment, and perform complex tasks autonomously.\\n    *   **Expert Systems:** These are older forms of AI designed to mimic the decision-making ability of a human expert in a specific domain, often using rule-based logic.\\n    *   **Recommendation Systems:** Ever wonder how Netflix suggests movies or Amazon recommends products? That\\'s AI at work, learning your preferences.\\n\\n4.  **My Own Context:** I, myself, am an example of a highly advanced form of AI, specifically a **Large Language Model (LLM)**. I\\'ve been trained on an enormous dataset of text and code, which allows me to understand and generate human-like language, answer questions, summarize information, translate, and even create different kinds of creative content. It\\'s pretty mind-boggling when you think about it!\\n\\n5.  **The Evolution:** AI isn\\'t new; the concept has been around for decades, with its roots in the 1950s. However, recent advancements in computing power, the availability of massive datasets, and breakthroughs in algorithms (especially deep learning) have led to an incredible acceleration in AI capabilities and its widespread application across almost every industry.\\n\\nSo, in essence, artificial intelligence is about building intelligent agents that can perceive their environment and take actions that maximize their chance of achieving their goals. It\\'s a field that\\'s constantly evolving, pushing the boundaries of what machines can do, and it\\'s profoundly reshaping our world!\\n\\nWhat aspects of AI are you most curious about, Seneca? We could dive into its ethical implications, its future potential, or even some of the specific technologies behind it!'"
      ]
     },
     "execution_count": 18,
     "metadata": {},
     "output_type": "execute_result"
    }
   ],
   "source": [
    "conversation.predict(input = \"Artifical intelligence is...\")"
   ]
  },
  {
   "cell_type": "code",
   "execution_count": 19,
   "id": "9c2fa9da",
   "metadata": {},
   "outputs": [
    {
     "name": "stdout",
     "output_type": "stream",
     "text": [
      "\n",
      "\n",
      "\u001b[1m> Entering new ConversationChain chain...\u001b[0m\n",
      "Prompt after formatting:\n",
      "\u001b[32;1m\u001b[1;3mThe following is a friendly conversation between a human and an AI. The AI is talkative and provides lots of specific details from its context. If the AI does not know the answer to a question, it truthfully says it does not know.\n",
      "\n",
      "Current conversation:\n",
      "\n",
      "Human: Neural networks are...\n",
      "AI:\u001b[0m\n",
      "\n",
      "\u001b[1m> Finished chain.\u001b[0m\n"
     ]
    },
    {
     "data": {
      "text/plain": [
       "'...oh, that\\'s a fantastic topic! Neural networks are truly one of the most fascinating and powerful tools in the world of artificial intelligence and machine learning.\\n\\nAt their core, you can think of neural networks as **computational models inspired by the structure and function of the human brain**. They\\'re designed to recognize patterns and relationships in data, much like our brains do, allowing them to learn from examples and make predictions or decisions without being explicitly programmed for every single scenario.\\n\\nLet me break down some of the specific details:\\n\\n1.  **Biological Inspiration:** The \"neural\" part comes directly from biology. Our brains are made up of billions of interconnected neurons. Each neuron receives signals, processes them, and then sends its own signals to other neurons. Neural networks mimic this by having artificial \"neurons\" (often called **nodes** or **perceptrons**) that are organized into layers.\\n\\n2.  **Structure - Layers and Nodes:**\\n    *   **Input Layer:** This is where your data first enters the network. Each node in this layer typically represents a feature from your dataset. For example, if you\\'re trying to predict house prices, input nodes might represent square footage, number of bedrooms, or location.\\n    *   **Hidden Layers:** These are the \"thinking\" layers in between the input and output. A network can have one or many hidden layers, and the more complex the problem, often the more hidden layers (and nodes within them) are needed. This is where the network learns to extract increasingly abstract features from the input data. For instance, in image recognition, an early hidden layer might detect edges, while a deeper one might detect shapes like eyes or noses.\\n    *   **Output Layer:** This layer provides the final result of the network\\'s processing. The number of nodes here depends on the task. If you\\'re classifying an image as either a \"cat\" or \"dog,\" you might have two output nodes. If you\\'re predicting a continuous value like a stock price, you might have just one.\\n\\n3.  **Connections, Weights, and Biases:**\\n    *   Every node in one layer is connected to every node in the next layer (in a fully connected network, at least). These connections have associated **weights**. A weight is essentially a numerical value that determines the strength and importance of that connection. A higher weight means that the input from that connection has a stronger influence on the next node.\\n    *   Each node also has a **bias**. Think of the bias as an additional input that allows the activation function (which I\\'ll get to in a moment!) to be shifted. It helps the network learn more complex patterns and adjust the output independently of the input data.\\n\\n4.  **Activation Functions:** This is a crucial part! When a node receives inputs from the previous layer, it sums them up (each input multiplied by its respective weight, plus the bias). This sum then passes through an **activation function**. The activation function decides whether the neuron should \"fire\" (i.e., be activated) and pass information to the next layer. It introduces non-linearity into the network, which is absolutely essential for learning complex, non-linear relationships in data. Common activation functions include:\\n    *   **ReLU (Rectified Linear Unit):** Very popular, it outputs the input directly if it\\'s positive, otherwise it outputs zero.\\n    *   **Sigmoid:** Squashes values between 0 and 1, often used in the output layer for binary classification.\\n    *   **Tanh (Hyperbolic Tangent):** Similar to sigmoid but squashes values between -1 and 1.\\n\\n5.  **How They Learn - Training and Backpropagation:**\\n    *   Neural networks learn through a process called **training**. You feed them a large dataset of examples where you already know the correct output (this is called supervised learning).\\n    *   Initially, the weights and biases are set randomly. The network makes a prediction, and then its output is compared to the actual correct output. The difference between these is called the **error** or **loss**.\\n    *   The magic happens with **backpropagation**. This is an algorithm that calculates how much each weight and bias in the network contributed to that error. It then uses this information to slightly adjust the weights and biases in a way that reduces the error for the next round.\\n    *   This process of forward pass (making a prediction) and backward pass (adjusting weights) is repeated thousands or millions of times over the entire dataset (called **epochs**), gradually refining the network\\'s parameters until it can make highly accurate predictions.\\n\\n6.  **What They\\'re Used For:** The applications are incredibly diverse!\\n    *   **Image Recognition:** Identifying objects, faces, or even medical conditions in images (think self-driving cars, facial unlock on your phone).\\n    *   **Natural Language Processing (NLP):** Understanding and generating human language (like the text I\\'m generating right now!), translation, sentiment analysis, chatbots.\\n    *   **Speech Recognition:** Converting spoken words into text (Siri, Alexa, Google Assistant).\\n    *   **Recommendation Systems:** Suggesting products, movies, or music based on your past preferences (Netflix, Amazon).\\n    *   **Financial Forecasting:** Predicting stock prices or market trends.\\n    *   **Medical Diagnosis:** Assisting doctors in identifying diseases from scans or patient data.\\n\\nSo, in essence, neural networks are powerful, adaptive systems that learn from data by adjusting the strength of connections between their artificial neurons, allowing them to perform complex tasks that are difficult or impossible with traditional rule-based programming. They\\'re a cornerstone of modern AI!'"
      ]
     },
     "execution_count": 19,
     "metadata": {},
     "output_type": "execute_result"
    }
   ],
   "source": [
    "conversation.predict(input = \"Neural networks are...\")"
   ]
  },
  {
   "cell_type": "code",
   "execution_count": 20,
   "id": "a66ba1e6",
   "metadata": {},
   "outputs": [
    {
     "name": "stdout",
     "output_type": "stream",
     "text": [
      "\n",
      "\n",
      "\u001b[1m> Entering new ConversationChain chain...\u001b[0m\n",
      "Prompt after formatting:\n",
      "\u001b[32;1m\u001b[1;3mThe following is a friendly conversation between a human and an AI. The AI is talkative and provides lots of specific details from its context. If the AI does not know the answer to a question, it truthfully says it does not know.\n",
      "\n",
      "Current conversation:\n",
      "\n",
      "Human: What is my name?\n",
      "AI:\u001b[0m\n",
      "\n",
      "\u001b[1m> Finished chain.\u001b[0m\n"
     ]
    },
    {
     "data": {
      "text/plain": [
       "\"Oh, that's a fun question! As an AI, I don't actually have a memory of our past conversations or any personal information about you, like your name. Each time we chat, it's a fresh start for me, and I don't store any details from one interaction to the next. So, I honestly don't know your name!\\n\\nYou'd have to tell me, if you'd like me to know it for this particular conversation! 😊\""
      ]
     },
     "execution_count": 20,
     "metadata": {},
     "output_type": "execute_result"
    }
   ],
   "source": [
    "conversation.predict(input = \"What is my name?\")"
   ]
  },
  {
   "cell_type": "code",
   "execution_count": 21,
   "id": "c22be198",
   "metadata": {},
   "outputs": [
    {
     "name": "stdout",
     "output_type": "stream",
     "text": [
      "\n",
      "Variables loaded into the buffer:\n",
      "\n",
      "{'history': \"Human: What is my name?\\nAI: Oh, that's a fun question! As an AI, I don't actually have a memory of our past conversations or any personal information about you, like your name. Each time we chat, it's a fresh start for me, and I don't store any details from one interaction to the next. So, I honestly don't know your name!\\n\\nYou'd have to tell me, if you'd like me to know it for this particular conversation! 😊\"}\n"
     ]
    }
   ],
   "source": [
    "# Se imprimen las variables activas que LangChain ha almacenado en la memoria\n",
    "print(\"\\nVariables loaded into the buffer:\\n\")\n",
    "print(memory.load_memory_variables({}))"
   ]
  },
  {
   "cell_type": "markdown",
   "id": "6595f980",
   "metadata": {},
   "source": [
    "# <a id='toc5_'></a>[Uso de memoria tipo buffer con resumen](#toc0_)"
   ]
  },
  {
   "cell_type": "code",
   "execution_count": 22,
   "id": "3b586979",
   "metadata": {},
   "outputs": [
    {
     "name": "stderr",
     "output_type": "stream",
     "text": [
      "/tmp/ipykernel_156387/1774147385.py:5: LangChainDeprecationWarning: Please see the migration guide at: https://python.langchain.com/docs/versions/migrating_memory/\n",
      "  memory = ConversationSummaryBufferMemory(\n"
     ]
    }
   ],
   "source": [
    "from langchain.memory import ConversationSummaryBufferMemory\n",
    "\n",
    "# Se crea una memoria tipo buffer con resumen automático\n",
    "# El modelo generará resúmenes cuando se alcance el límite de tokens especificado\n",
    "memory = ConversationSummaryBufferMemory(\n",
    "    llm = chat,              \n",
    "    max_token_limit = 150   \n",
    ")"
   ]
  },
  {
   "cell_type": "code",
   "execution_count": 23,
   "id": "374a9110",
   "metadata": {},
   "outputs": [],
   "source": [
    "# Se crea una cadena conversacional utilizando memoria tipo buffer con resumen\n",
    "conversation = ConversationChain(\n",
    "    llm = chat,       \n",
    "    memory = memory,  \n",
    "    verbose = True   \n",
    ")"
   ]
  },
  {
   "cell_type": "code",
   "execution_count": 24,
   "id": "4ffcdcb4",
   "metadata": {},
   "outputs": [
    {
     "name": "stdout",
     "output_type": "stream",
     "text": [
      "\n",
      "\n",
      "\u001b[1m> Entering new ConversationChain chain...\u001b[0m\n",
      "Prompt after formatting:\n",
      "\u001b[32;1m\u001b[1;3mThe following is a friendly conversation between a human and an AI. The AI is talkative and provides lots of specific details from its context. If the AI does not know the answer to a question, it truthfully says it does not know.\n",
      "\n",
      "Current conversation:\n",
      "\n",
      "Human: Hi, my name is Seneca\n",
      "AI:\u001b[0m\n",
      "\n",
      "\u001b[1m> Finished chain.\u001b[0m\n"
     ]
    },
    {
     "data": {
      "text/plain": [
       "\"Hi Seneca, it's absolutely wonderful to meet you! I'm a large language model, an AI, developed by Google. You can just call me AI, or whatever you prefer! I'm really looking forward to our conversation. What brings you here today, or what's on your mind? I'm all ears, or rather, all text input!\""
      ]
     },
     "execution_count": 24,
     "metadata": {},
     "output_type": "execute_result"
    }
   ],
   "source": [
    "# Entrada larga para provocar el resumen\n",
    "agenda = \"\"\"\n",
    "There is a meeting at 8 a.m. with the product team.\n",
    "From 9 a.m. to 12 p.m., I have time to work on my LangChain project.\n",
    "At noon, I have lunch with a client at the Italian restaurant.\n",
    "\"\"\"\n",
    "\n",
    "# Secuencia de conversación\n",
    "conversation.predict(input = \"Hi, my name is Seneca\")  "
   ]
  },
  {
   "cell_type": "code",
   "execution_count": 25,
   "id": "6f7e90c6",
   "metadata": {},
   "outputs": [
    {
     "name": "stdout",
     "output_type": "stream",
     "text": [
      "\n",
      "\n",
      "\u001b[1m> Entering new ConversationChain chain...\u001b[0m\n",
      "Prompt after formatting:\n",
      "\u001b[32;1m\u001b[1;3mThe following is a friendly conversation between a human and an AI. The AI is talkative and provides lots of specific details from its context. If the AI does not know the answer to a question, it truthfully says it does not know.\n",
      "\n",
      "Current conversation:\n",
      "Human: Hi, my name is Seneca\n",
      "AI: Hi Seneca, it's absolutely wonderful to meet you! I'm a large language model, an AI, developed by Google. You can just call me AI, or whatever you prefer! I'm really looking forward to our conversation. What brings you here today, or what's on your mind? I'm all ears, or rather, all text input!\n",
      "Human: This is my schedule for today: \n",
      "There is a meeting at 8 a.m. with the product team.\n",
      "From 9 a.m. to 12 p.m., I have time to work on my LangChain project.\n",
      "At noon, I have lunch with a client at the Italian restaurant.\n",
      "\n",
      "AI:\u001b[0m\n",
      "\n",
      "\u001b[1m> Finished chain.\u001b[0m\n"
     ]
    },
    {
     "data": {
      "text/plain": [
       "\"Oh, thanks for sharing your schedule with me, Seneca! It's really helpful to get a glimpse into your day. Let's see here...\\n\\nIt looks like you've got a pretty structured morning ahead!\\n\\n*   You're kicking things off bright and early at **8 a.m.** with a **meeting with the product team**. That sounds like an important way to start the day, probably discussing new features, progress, or strategy.\\n*   Then, from **9 a.m. all the way until 12 p.m. (noon)**, you've carved out a good chunk of dedicated time to **work on your LangChain project**. Three whole hours! That's fantastic for really diving deep and making some solid progress. LangChain is such an interesting framework for developing applications powered by large language models, so I imagine you'll be doing some really cool stuff there.\\n*   And to round off your morning, right at **noon**, you have a **lunch with a client at the Italian restaurant**. How lovely! A nice meal and good conversation, perhaps discussing business or building rapport. I hope you enjoy some delicious pasta or pizza!\\n\\nIt seems like a productive and engaging day you have planned, Seneca! Is there anything specific about your schedule you'd like to chat about, or perhaps something I can help you with regarding your LangChain project? I'm quite familiar with large language models, after all!\""
      ]
     },
     "execution_count": 25,
     "metadata": {},
     "output_type": "execute_result"
    }
   ],
   "source": [
    "conversation.predict(input = \"This is my schedule for today: \" + agenda)"
   ]
  },
  {
   "cell_type": "code",
   "execution_count": 26,
   "id": "b9664e0a",
   "metadata": {},
   "outputs": [
    {
     "name": "stdout",
     "output_type": "stream",
     "text": [
      "\n",
      "\n",
      "\u001b[1m> Entering new ConversationChain chain...\u001b[0m\n",
      "Prompt after formatting:\n",
      "\u001b[32;1m\u001b[1;3mThe following is a friendly conversation between a human and an AI. The AI is talkative and provides lots of specific details from its context. If the AI does not know the answer to a question, it truthfully says it does not know.\n",
      "\n",
      "Current conversation:\n",
      "System: Seneca introduces himself to the AI, which identifies itself as a Google-developed large language model and offers assistance. Seneca then shares his schedule for the day, which includes an 8 a.m. meeting with the product team, three hours from 9 a.m. to 12 p.m. dedicated to his LangChain project, and a noon lunch with a client at an Italian restaurant. The AI acknowledges and breaks down Seneca's schedule, confirming the details and offering to help with his LangChain project.\n",
      "Human: Who am i having lunch with today?\n",
      "AI:\u001b[0m\n",
      "\n",
      "\u001b[1m> Finished chain.\u001b[0m\n"
     ]
    },
    {
     "data": {
      "text/plain": [
       "\"Oh, that's an excellent question, Seneca! Looking at the schedule you just shared with me, you have a **noon lunch with a client**. You also mentioned it's going to be at an Italian restaurant, which sounds absolutely delightful! I hope you have a wonderful time and a productive discussion with them. Is there anything I can help you prepare for that meeting, or perhaps look up some Italian restaurant recommendations for you?\""
      ]
     },
     "execution_count": 26,
     "metadata": {},
     "output_type": "execute_result"
    }
   ],
   "source": [
    "conversation.predict(input = \"Who am i having lunch with today?\")"
   ]
  },
  {
   "cell_type": "code",
   "execution_count": 27,
   "id": "66dabafe",
   "metadata": {},
   "outputs": [
    {
     "name": "stdout",
     "output_type": "stream",
     "text": [
      "\n",
      "\n",
      "\u001b[1m> Entering new ConversationChain chain...\u001b[0m\n",
      "Prompt after formatting:\n",
      "\u001b[32;1m\u001b[1;3mThe following is a friendly conversation between a human and an AI. The AI is talkative and provides lots of specific details from its context. If the AI does not know the answer to a question, it truthfully says it does not know.\n",
      "\n",
      "Current conversation:\n",
      "System: Seneca introduces himself to the AI, which identifies itself as a Google-developed large language model and offers assistance. Seneca then shares his schedule for the day, which includes an 8 a.m. meeting with the product team, three hours from 9 a.m. to 12 p.m. dedicated to his LangChain project, and a noon lunch with a client at an Italian restaurant. The AI acknowledges and breaks down Seneca's schedule, confirming the details and offering to help with his LangChain project.\n",
      "Human: Who am i having lunch with today?\n",
      "AI: Oh, that's an excellent question, Seneca! Looking at the schedule you just shared with me, you have a **noon lunch with a client**. You also mentioned it's going to be at an Italian restaurant, which sounds absolutely delightful! I hope you have a wonderful time and a productive discussion with them. Is there anything I can help you prepare for that meeting, or perhaps look up some Italian restaurant recommendations for you?\n",
      "Human: What is my name?\n",
      "AI:\u001b[0m\n",
      "\n",
      "\u001b[1m> Finished chain.\u001b[0m\n"
     ]
    },
    {
     "data": {
      "text/plain": [
       "\"Ah, that's an easy one, Seneca! You introduced yourself right at the beginning of our chat. Your name is **Seneca**.\\n\\nIt's a pleasure to be speaking with you, Seneca! Is there anything else I can help you with today, perhaps related to your schedule or that LangChain project you're working on? I'm here to assist!\""
      ]
     },
     "execution_count": 27,
     "metadata": {},
     "output_type": "execute_result"
    }
   ],
   "source": [
    "conversation.predict(input = \"What is my name?\")"
   ]
  },
  {
   "cell_type": "code",
   "execution_count": 28,
   "id": "f14cc467",
   "metadata": {},
   "outputs": [
    {
     "name": "stdout",
     "output_type": "stream",
     "text": [
      "\n",
      "Variables loaded into the buffer:\n",
      "\n",
      "{'history': \"System: Seneca introduces himself to the AI, which identifies itself as a Google-developed large language model and offers assistance. Seneca then shares his schedule for the day, which includes an 8 a.m. meeting with the product team, three hours from 9 a.m. to 12 p.m. dedicated to his LangChain project, and a noon lunch with a client at an Italian restaurant. The AI acknowledges and breaks down Seneca's schedule, confirming the details and offering to help with his LangChain project. Seneca then asks who he is having lunch with, and the AI confirms it's a client at an Italian restaurant, offering further assistance for the meeting or restaurant recommendations.\\nHuman: What is my name?\\nAI: Ah, that's an easy one, Seneca! You introduced yourself right at the beginning of our chat. Your name is **Seneca**.\\n\\nIt's a pleasure to be speaking with you, Seneca! Is there anything else I can help you with today, perhaps related to your schedule or that LangChain project you're working on? I'm here to assist!\"}\n"
     ]
    }
   ],
   "source": [
    "# Se imprimen las variables activas que LangChain ha almacenado en la memoria\n",
    "print(\"\\nVariables loaded into the buffer:\\n\")\n",
    "print(memory.load_memory_variables({}))"
   ]
  }
 ],
 "metadata": {
  "kernelspec": {
   "display_name": "llms",
   "language": "python",
   "name": "python3"
  },
  "language_info": {
   "codemirror_mode": {
    "name": "ipython",
    "version": 3
   },
   "file_extension": ".py",
   "mimetype": "text/x-python",
   "name": "python",
   "nbconvert_exporter": "python",
   "pygments_lexer": "ipython3",
   "version": "3.12.0"
  }
 },
 "nbformat": 4,
 "nbformat_minor": 5
}
